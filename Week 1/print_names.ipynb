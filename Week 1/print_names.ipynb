{
 "cells": [
  {
   "cell_type": "markdown",
   "metadata": {},
   "source": [
    "### `print_names`"
   ]
  },
  {
   "cell_type": "markdown",
   "metadata": {},
   "source": [
    "Write a function that prints a set of names found in a file.\n",
    "* the input file has one name per line\n",
    "* you can assume every line has a first name and a last name, separated by a space\n",
    "\n",
    "The names can be in any order in the file, but they should be sorted before they are printed.\n",
    "\n",
    "The arguments passed to the function are\n",
    "* the file name (a required argument)\n",
    "* a Boolean that specifies whether to print first or last name first (optional, default = `False`)\n",
    "* a Boolean that specifies whether to print the full first name or just an initial (optional, default = `False`)\n",
    "\n",
    "The names should be printed to `stdout`.  The return value should be `None`."
   ]
  },
  {
   "cell_type": "code",
   "execution_count": 10,
   "metadata": {
    "collapsed": true,
    "deletable": false,
    "nbgrader": {
     "checksum": "975d4c245396251734ac5897f065cca5",
     "grade": false,
     "grade_id": "print_names",
     "locked": false,
     "solution": true
    }
   },
   "outputs": [],
   "source": [
    "def last_name(x):\n",
    "    return x[1]\n",
    "\n",
    "def print_names(filename):\n",
    "    names = []\n",
    "    for line in open(filename):\n",
    "        names.append(line.split())\n",
    "    names.sort(key=last_name)\n",
    "    print(names)"
   ]
  },
  {
   "cell_type": "markdown",
   "metadata": {},
   "source": [
    "Test the function by printing names in a test data set."
   ]
  },
  {
   "cell_type": "code",
   "execution_count": 2,
   "metadata": {
    "collapsed": false
   },
   "outputs": [
    {
     "name": "stdout",
     "output_type": "stream",
     "text": [
      "Harry Potter\r\n",
      "Hermione Granger\r\n",
      "Ron Weasley\r\n",
      "Ginny Weasley\r\n",
      "Draco Malfoy\r\n"
     ]
    }
   ],
   "source": [
    "! cat hogwarts.txt"
   ]
  },
  {
   "cell_type": "code",
   "execution_count": 11,
   "metadata": {
    "collapsed": false
   },
   "outputs": [
    {
     "name": "stdout",
     "output_type": "stream",
     "text": [
      "[['Hermione', 'Granger'], ['Draco', 'Malfoy'], ['Harry', 'Potter'], ['Ron', 'Weasley'], ['Ginny', 'Weasley']]\n"
     ]
    }
   ],
   "source": [
    "print_names('hogwarts.txt')"
   ]
  },
  {
   "cell_type": "markdown",
   "metadata": {},
   "source": [
    "### To Do "
   ]
  },
  {
   "cell_type": "markdown",
   "metadata": {},
   "source": [
    "* install `nose` (unit testing framework)\n",
    "* import test classes\n",
    "* learn how to capture stdout, compare to expected output\n",
    "* add test for invalid file name"
   ]
  },
  {
   "cell_type": "code",
   "execution_count": null,
   "metadata": {
    "collapsed": true
   },
   "outputs": [],
   "source": []
  }
 ],
 "metadata": {
  "kernelspec": {
   "display_name": "Python 3",
   "language": "python",
   "name": "python3"
  },
  "language_info": {
   "codemirror_mode": {
    "name": "ipython",
    "version": 3
   },
   "file_extension": ".py",
   "mimetype": "text/x-python",
   "name": "python",
   "nbconvert_exporter": "python",
   "pygments_lexer": "ipython3",
   "version": "3.5.1"
  }
 },
 "nbformat": 4,
 "nbformat_minor": 0
}
