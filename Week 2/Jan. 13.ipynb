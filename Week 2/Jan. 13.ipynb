{
 "cells": [
  {
   "cell_type": "code",
   "execution_count": 4,
   "metadata": {
    "collapsed": false
   },
   "outputs": [],
   "source": [
    "from string import ascii_uppercase\n",
    "def letter_count(text):\n",
    "    def second(item):\n",
    "        return item[1]\n",
    "    dct={}\n",
    "    for ch in text:\n",
    "        if ch in text:\n",
    "            if ch in ascii_uppercase:\n",
    "                dct.setdeafault(ch,0)\n",
    "                dct[ch]+=1\n",
    "    pairs=list(dct.items())\n",
    "    pairs.sort(key=second, reverse=True)\n",
    "    return pairs"
   ]
  },
  {
   "cell_type": "code",
   "execution_count": null,
   "metadata": {
    "collapsed": true
   },
   "outputs": [],
   "source": []
  }
 ],
 "metadata": {
  "kernelspec": {
   "display_name": "Python 3",
   "language": "python",
   "name": "python3"
  },
  "language_info": {
   "codemirror_mode": {
    "name": "ipython",
    "version": 3
   },
   "file_extension": ".py",
   "mimetype": "text/x-python",
   "name": "python",
   "nbconvert_exporter": "python",
   "pygments_lexer": "ipython3",
   "version": "3.5.1"
  }
 },
 "nbformat": 4,
 "nbformat_minor": 0
}
