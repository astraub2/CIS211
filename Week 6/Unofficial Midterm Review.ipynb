{
 "cells": [
  {
   "cell_type": "markdown",
   "metadata": {},
   "source": [
    "# Midterm Review\n",
    "\n",
    "From John: \"Rough guess at this point is 25% basic Python stuff (namespaces, dictionaries, list comprehension, other stuff), 50% OOP in Python stuff, and maybe 25% on concepts related to projects — cryptography, vectors, etc.\"\n",
    "\n",
    "Agenda:\n",
    "    1. Review basic python stuff\n",
    "        A. built-in data structures -- e.g. dictionaries, lists, sets, tuples\n",
    "        B. data structure 'conversion' -- e.g. building a set from a list\n",
    "        C. comprehensions -- list and dictionary\n",
    "        D. python namespaces\n",
    "    2. Review OOP in Python\n",
    "        A. What is OOP? How is it different than 'scripting' or 'procedural' programming?\n",
    "        B. When have we used OOP in our projects?\n",
    "        C. How does Inheritence work in python? How did our 'step_system' function work?\n",
    "    3. Review of projects content\n",
    "        A. Crypto -- random sample, timeit (list vs dict vs set), fileparsing\n",
    "        B. Planets -- Vector class, Body class, add_force method, string formatting\n",
    "        C. Orbits -- step_system function, VBody class\n",
    "        D. Tk -- Widgets (Button, Label, Entry, Canvas), Callback functions, Geometry Management\n"
   ]
  },
  {
   "cell_type": "markdown",
   "metadata": {},
   "source": [
    "# Basic Python Stuff"
   ]
  },
  {
   "cell_type": "code",
   "execution_count": 1,
   "metadata": {
    "collapsed": false
   },
   "outputs": [
    {
     "name": "stdout",
     "output_type": "stream",
     "text": [
      "{'key1': 'elem3', 'key2': 'elem2'}\n",
      "['elem1', 'elem2', 'elem3', 'elem1']\n",
      "{'elem1', 'elem3', 'elem2'}\n"
     ]
    }
   ],
   "source": [
    "# Built in data structures\n",
    "mydict = {'key1': 'elem1', 'key2': 'elem2', 'key1': 'elem3'} # IGNORE DUPLICATE KEYS\n",
    "mylist = ['elem1', 'elem2', 'elem3', 'elem1'] # Retains ordering\n",
    "myset = {'elem1', 'elem2', 'elem3', 'elem1'} # IGNORE DUPLICATE VALUES\n",
    "\n",
    "print(mydict)\n",
    "print(mylist)\n",
    "print(myset)"
   ]
  },
  {
   "cell_type": "code",
   "execution_count": 2,
   "metadata": {
    "collapsed": false
   },
   "outputs": [
    {
     "name": "stdout",
     "output_type": "stream",
     "text": [
      "{'key1', 'key2'}\n",
      "['key1', 'key2']\n",
      "{'k1': 'e1', 'k2': 'e2', 'k3': 'e3'}\n"
     ]
    }
   ],
   "source": [
    "# Data structure conversion\n",
    "my_set_from_dict = set(mydict)\n",
    "my_list_from_dict = list(mydict)\n",
    "my_dict_using_zip = dict(zip(['k1', 'k2', 'k3'], ['e1', 'e2', 'e3']))\n",
    "\n",
    "print(my_set_from_dict)\n",
    "print(my_list_from_dict)\n",
    "print(my_dict_using_zip)"
   ]
  },
  {
   "cell_type": "code",
   "execution_count": 3,
   "metadata": {
    "collapsed": false
   },
   "outputs": [
    {
     "name": "stdout",
     "output_type": "stream",
     "text": [
      "['c', 'h', 'a', 'n', 'g', 'e', '_', 's', 'p', 'a', 'c', 'e', 's', '_', 't', 'o', '_', 'u', 'n', 'd', 'e', 'r', 's', 'c', 'o', 'r', 'e', 's']\n",
      "change_spaces_to_underscores\n",
      "{'k4': False, 'k1': True, 'k5': True, 'k2': False, 'k3': False}\n"
     ]
    }
   ],
   "source": [
    "# List comprehension\n",
    "processed_list = [character if character != ' ' else '_' for character in \"change spaces to underscores\"]\n",
    "print(processed_list)\n",
    "print(''.join(processed_list))\n",
    "\n",
    "# Dictionary comprehension\n",
    "keys = ['k1', 'k2', 'k3', 'k4', 'k5']\n",
    "values = [100, -20, 1, 0, 99]\n",
    "processed_dictionary = {key: True if val > 10 else False for (key,val) in zip(keys, values)}\n",
    "print(processed_dictionary)"
   ]
  },
  {
   "cell_type": "code",
   "execution_count": null,
   "metadata": {
    "collapsed": false
   },
   "outputs": [],
   "source": [
    "# Python Namespacing\n",
    "%gui tk\n",
    "import tkinter # GREAT! :D\n",
    "import tkinter as tk # GREAT! :D\n",
    "from tkinter import * # BAD -- pollutes namespace as well as has name overridding issues\n",
    "from tkinter import Button # BAD -- might accidentally override names\n",
    "# What is so bad about the latter two options?\n",
    "\n",
    "# A lot of times we will use many many libraries, if we import some of them using either of the latter two options, \n",
    "# we will most likely run into scenarios where two classes (or functions, or variables) share the same name.\n",
    "# Example in the following code cell\n",
    "\n",
    "\n",
    "\n",
    "\n",
    "\n",
    "\n",
    "\n"
   ]
  },
  {
   "cell_type": "code",
   "execution_count": 4,
   "metadata": {
    "collapsed": false
   },
   "outputs": [
    {
     "name": "stdout",
     "output_type": "stream",
     "text": [
      "created a new needle!\n",
      "Created a new button!\n",
      "Created som thread!\n"
     ]
    },
    {
     "ename": "TypeError",
     "evalue": "__init__() got an unexpected keyword argument 'text'",
     "output_type": "error",
     "traceback": [
      "\u001b[1;31m---------------------------------------------------------------------------\u001b[0m",
      "\u001b[1;31mTypeError\u001b[0m                                 Traceback (most recent call last)",
      "\u001b[1;32m<ipython-input-4-03d7d8928390>\u001b[0m in \u001b[0;36m<module>\u001b[1;34m()\u001b[0m\n\u001b[0;32m     29\u001b[0m \u001b[1;31m# I've finished programming a bunch of my application, but I realize that I need another GUI button now\u001b[0m\u001b[1;33m\u001b[0m\u001b[1;33m\u001b[0m\u001b[0m\n\u001b[0;32m     30\u001b[0m \u001b[1;31m# What happens when I go to create a new TK button?\u001b[0m\u001b[1;33m\u001b[0m\u001b[1;33m\u001b[0m\u001b[0m\n\u001b[1;32m---> 31\u001b[1;33m \u001b[0mButton\u001b[0m\u001b[1;33m(\u001b[0m\u001b[0mapp\u001b[0m\u001b[1;33m,\u001b[0m \u001b[0mtext\u001b[0m\u001b[1;33m=\u001b[0m\u001b[1;34m\"Press me to start sewing!\"\u001b[0m\u001b[1;33m)\u001b[0m\u001b[1;33m.\u001b[0m\u001b[0mpack\u001b[0m\u001b[1;33m(\u001b[0m\u001b[1;33m)\u001b[0m\u001b[1;33m\u001b[0m\u001b[0m\n\u001b[0m",
      "\u001b[1;31mTypeError\u001b[0m: __init__() got an unexpected keyword argument 'text'"
     ]
    }
   ],
   "source": [
    "# Example of overwriting a name in python\n",
    "#    We want to make an app using Tkinter. Our app is going to be a sewing application,\n",
    "#    so obviously we will need to have a Button class \n",
    "\n",
    "# Import exactly what we need\n",
    "from tkinter import Button # BAD\n",
    "from tkinter import Tk # BAD\n",
    "\n",
    "# Setup our app GUI\n",
    "app = Tk()\n",
    "Button(app, text=\"Hello Button!\").pack()\n",
    "\n",
    "# Construct some classes that we will need for our app\n",
    "class Needle:\n",
    "    def __init__(self):\n",
    "        print(\"created a new needle!\")\n",
    "n = Needle()\n",
    "\n",
    "class Button:\n",
    "    def __init__(self):\n",
    "        print(\"Created a new button!\")\n",
    "b = Button()\n",
    "        \n",
    "class Thread:\n",
    "    def __init__(self):\n",
    "        print(\"Created som thread!\")\n",
    "t = Thread()\n",
    "        \n",
    "# I've finished programming a bunch of my application, but I realize that I need another GUI button now\n",
    "# What happens when I go to create a new TK button?\n",
    "Button(app, text=\"Press me to start sewing!\").pack()"
   ]
  },
  {
   "cell_type": "markdown",
   "metadata": {},
   "source": [
    "# OOP in Python\n"
   ]
  },
  {
   "cell_type": "markdown",
   "metadata": {},
   "source": [
    "### OOP vs Scripting/Procedural\n",
    "\n",
    "#### OOP\n",
    "\n",
    "http://www.saylor.org/site/wp-content/uploads/2013/02/CS101-2.1.2-AdvantagesDisadvantagesOfOOP-FINAL.pdf\n",
    "\n",
    "Creating objects and classes.\n",
    "\n",
    "Defining behaviors for objects and classes.\n",
    "\n",
    "Powerful design patterns.\n",
    "\n",
    "A lot of times there is a natural \"Object Oriented\" structure in a problem\n",
    "\n",
    "#### Scripting\n",
    "\n",
    "Good for slapping together some functionality when the problem is short and easy"
   ]
  },
  {
   "cell_type": "markdown",
   "metadata": {},
   "source": [
    "### Where have we used OOP in our projects?\n",
    "\n",
    "Everywhere!\n",
    "\n",
    "1. Constructing our own classes -- Vector, Body, VBody\n",
    "1. Anytime that we 'call a method on an object' we are actually using Python OOP\n",
    "1. which of the following is Object Oriented style, and which is procedural style?\n",
    "    1. mylist.sort() -- More OOP-like\n",
    "    1. sorted(mylist) -- More Scripting-like\n",
    "    1. len(mylist) -- more Scripting-like"
   ]
  },
  {
   "cell_type": "markdown",
   "metadata": {},
   "source": [
    "### Python Inheritence"
   ]
  },
  {
   "cell_type": "markdown",
   "metadata": {},
   "source": [
    "Inheritance simply is the concept of representing an 'is-a' relationship in our code. Our examples are:\n",
    "\n",
    "1. TK Label, Button, Etc... are all children of TK Widget \n",
    "1. Our VBody is a child of Body\n",
    "\n",
    "See the following link for a pretty good discussion of inheritance in Python:\n",
    "\n",
    "http://www.python-course.eu/python3_inheritance.php\n"
   ]
  },
  {
   "cell_type": "code",
   "execution_count": null,
   "metadata": {
    "collapsed": true
   },
   "outputs": [],
   "source": [
    "# Small Inheritance example -- also good to study the VBody implementation\n",
    "# Dog IS-A Mammel, so it has all of the same behaviors\n",
    "class Mammal:\n",
    "    def __init__(self, noise=\"...asdf?\"):\n",
    "        self.noise = noise\n",
    "    \n",
    "    def make_noise(self):\n",
    "        print(self.noise)\n",
    "        \n",
    "# Passing the class \n",
    "class Dog(Mammal):\n",
    "    def __init__(self, noise=\"Bark\"):\n",
    "        # Use the Mammal initializer since we want Dog to be a normal mammal\n",
    "        Mammal.__init__(self, noise=noise)\n",
    "        # Any extra behaviors we can define as well\n",
    "        self._legs = 4\n",
    "        self._collar = True\n",
    "        \n",
    "    # Barking is a behavior that is specific to dogs\n",
    "    def bark(self):\n",
    "        self.make_noise()"
   ]
  },
  {
   "cell_type": "code",
   "execution_count": null,
   "metadata": {
    "collapsed": false
   },
   "outputs": [],
   "source": [
    "mammal = Mammal()\n",
    "mammal.make_noise()\n",
    "mammal.bark()"
   ]
  },
  {
   "cell_type": "code",
   "execution_count": null,
   "metadata": {
    "collapsed": true
   },
   "outputs": [],
   "source": [
    "d = Dog()\n",
    "d.bark()\n",
    "d.make_noise()"
   ]
  },
  {
   "cell_type": "markdown",
   "metadata": {},
   "source": [
    "# Review of Projects"
   ]
  },
  {
   "cell_type": "code",
   "execution_count": null,
   "metadata": {
    "collapsed": false
   },
   "outputs": [],
   "source": [
    "# Crypto Project -- random sample, timeit (list vs dict vs set), fileparsing\n",
    "all_words = ['word', 'another', 'yet', 'my', 'friend', 'we', 'do', 'not', 'stop', 'repeat']\n",
    "\n",
    "# Using Random module\n",
    "import random\n",
    "random.sample(all_words, 1)\n",
    "\n",
    "# Using the timeit feature to see how fast/slow code is\n",
    "def do_work(n):\n",
    "    random.sample(all_words, n)\n",
    "%timeit do_work(0)\n",
    "%timeit do_work(10)\n",
    "\n",
    "# Able to parse files simply by iterating through them and splitting lines using string.split() method\n",
    "word_count = {}\n",
    "for line in open(\"quote.txt\"):\n",
    "    for word in line.split():\n",
    "        # Do processing on each word\n",
    "        if word in word_count:\n",
    "            word_count[word] += 1\n",
    "        else:\n",
    "            word_count[word] = 1\n",
    "        \n",
    "print(word_count)\n",
    "    \n"
   ]
  },
  {
   "cell_type": "markdown",
   "metadata": {},
   "source": [
    "### Planets -- Vector class, Body class, add_force method, string formatting\n",
    "\n",
    "What was the Vector and Body class?\n",
    "\n",
    "What did the add_force method do in the Body class? How did it do it?\n",
    "\n",
    "How did we use string formatting to get past the assertions?"
   ]
  },
  {
   "cell_type": "code",
   "execution_count": null,
   "metadata": {
    "collapsed": true
   },
   "outputs": [],
   "source": [
    "# Orbits -- step_system function, VBody class\n",
    "\n",
    "# TBD"
   ]
  },
  {
   "cell_type": "code",
   "execution_count": null,
   "metadata": {
    "collapsed": true
   },
   "outputs": [],
   "source": [
    "# Tk -- Widgets (Button, Label, Entry, Canvas), Callback functions, Geometry Management\n",
    "\n",
    "# TBD"
   ]
  },
  {
   "cell_type": "code",
   "execution_count": null,
   "metadata": {
    "collapsed": false
   },
   "outputs": [],
   "source": [
    "# import matplotlib "
   ]
  }
 ],
 "metadata": {
  "kernelspec": {
   "display_name": "Python 3",
   "language": "python",
   "name": "python3"
  },
  "language_info": {
   "codemirror_mode": {
    "name": "ipython",
    "version": 3
   },
   "file_extension": ".py",
   "mimetype": "text/x-python",
   "name": "python",
   "nbconvert_exporter": "python",
   "pygments_lexer": "ipython3",
   "version": "3.5.1"
  }
 },
 "nbformat": 4,
 "nbformat_minor": 0
}
