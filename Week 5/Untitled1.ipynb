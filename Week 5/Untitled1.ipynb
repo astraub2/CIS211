{
 "cells": [
  {
   "cell_type": "code",
   "execution_count": 7,
   "metadata": {
    "collapsed": false
   },
   "outputs": [
    {
     "data": {
      "text/plain": [
       "'77520528addLine'"
      ]
     },
     "execution_count": 7,
     "metadata": {},
     "output_type": "execute_result"
    }
   ],
   "source": [
    "%gui tk\n",
    "from tkinter import *\n",
    "import tkinter as tk\n",
    "\n",
    "lastx, lasty = 0, 0\n",
    "\n",
    "def xy(event):\n",
    "    global lastx, lasty\n",
    "    lastx, lasty = event.x, event.y\n",
    "\n",
    "def addLine(event):\n",
    "    global lastx, lasty\n",
    "    canvas.create_line((lastx, lasty, event.x, event.y))\n",
    "    lastx, lasty = event.x, event.y\n",
    "\n",
    "root = tk.Tk()\n",
    "root.columnconfigure(0, weight=1)\n",
    "root.rowconfigure(0, weight=1)\n",
    "\n",
    "canvas = Canvas(root)\n",
    "canvas.grid(column=0, row=0, sticky=(N, W, E, S))\n",
    "canvas.bind(\"<Button-1>\", xy)\n",
    "canvas.bind(\"<B1-Motion>\", addLine)"
   ]
  },
  {
   "cell_type": "code",
   "execution_count": null,
   "metadata": {
    "collapsed": true
   },
   "outputs": [],
   "source": []
  }
 ],
 "metadata": {
  "kernelspec": {
   "display_name": "Python 3",
   "language": "python",
   "name": "python3"
  },
  "language_info": {
   "codemirror_mode": {
    "name": "ipython",
    "version": 3
   },
   "file_extension": ".py",
   "mimetype": "text/x-python",
   "name": "python",
   "nbconvert_exporter": "python",
   "pygments_lexer": "ipython3",
   "version": "3.5.1"
  }
 },
 "nbformat": 4,
 "nbformat_minor": 0
}
