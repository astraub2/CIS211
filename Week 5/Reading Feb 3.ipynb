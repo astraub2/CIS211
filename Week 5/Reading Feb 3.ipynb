{
 "cells": [
  {
   "cell_type": "markdown",
   "metadata": {},
   "source": [
    "# Reading Assignment "
   ]
  },
  {
   "cell_type": "markdown",
   "metadata": {},
   "source": [
    "This notebook is the assigned \"pre class reading\" for week 5 in CIS 211.  \n",
    "\n",
    "At the start of the lecture on Wed Feb 3 there will be a 5-minute in-class project based on the GUI program described below.\n",
    "\n",
    "Make sure you understand what the program does and how Python creates the GUI.  You can run the code in the code cells, add print statements, or do anything else to help learn how the program works."
   ]
  },
  {
   "cell_type": "markdown",
   "metadata": {},
   "source": [
    "### Description "
   ]
  },
  {
   "cell_type": "markdown",
   "metadata": {},
   "source": [
    "The GUI defined in the code cell below has a label and two buttons.  When a button is clicked it changes the text in the label.\n",
    "\n",
    "Note: the labels on the buttons are both 1-character strings containing Unicode symbols.  The questions on Wednesday will not be related to the button text."
   ]
  },
  {
   "cell_type": "markdown",
   "metadata": {},
   "source": [
    "### Program "
   ]
  },
  {
   "cell_type": "code",
   "execution_count": 27,
   "metadata": {
    "collapsed": true
   },
   "outputs": [],
   "source": [
    "%gui tk\n",
    "import tkinter as tk"
   ]
  },
  {
   "cell_type": "code",
   "execution_count": 28,
   "metadata": {
    "collapsed": false
   },
   "outputs": [],
   "source": [
    "app = tk.Tk()\n",
    "\n",
    "def start():\n",
    "    message['text'] = 'Playing'\n",
    "    \n",
    "def stop():\n",
    "    message['text'] = 'Stopped'\n",
    "    \n",
    "message = tk.Label(app, text = 'Stopped', width=10, font = ('Helvectica', 20))\n",
    "message.grid(row = 0, column = 0, columnspan=2, padx = 20, pady = 20)\n",
    "\n",
    "tk.Button(app, text='▶️', font = ('Helvetica', 24), command=start).grid(row = 1, column = 0)\n",
    "tk.Button(app, text='⏸', font = ('Helvetica', 24), command=stop).grid(row = 1, column = 1)\n",
    "\n",
    "tk.Frame(app, height=30).grid(row = 2, column=1, columnspan=2)"
   ]
  },
  {
   "cell_type": "code",
   "execution_count": null,
   "metadata": {
    "collapsed": true
   },
   "outputs": [],
   "source": []
  },
  {
   "cell_type": "code",
   "execution_count": null,
   "metadata": {
    "collapsed": true
   },
   "outputs": [],
   "source": []
  }
 ],
 "metadata": {
  "kernelspec": {
   "display_name": "Python 3",
   "language": "python",
   "name": "python3"
  },
  "language_info": {
   "codemirror_mode": {
    "name": "ipython",
    "version": 3
   },
   "file_extension": ".py",
   "mimetype": "text/x-python",
   "name": "python",
   "nbconvert_exporter": "python",
   "pygments_lexer": "ipython3",
   "version": "3.5.1"
  }
 },
 "nbformat": 4,
 "nbformat_minor": 0
}
